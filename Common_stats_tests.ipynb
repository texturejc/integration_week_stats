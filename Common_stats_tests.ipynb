{
 "cells": [
  {
   "cell_type": "markdown",
   "id": "216cb381-6f3b-4b35-93a4-5824b6fb08cd",
   "metadata": {},
   "source": [
    "# Some common statistical tests using the python `pingouin` library"
   ]
  },
  {
   "cell_type": "markdown",
   "id": "bacaf6bb-ef62-468f-bada-7a8a1a6dd3ec",
   "metadata": {},
   "source": [
    "# Import relevant libraries"
   ]
  },
  {
   "cell_type": "code",
   "execution_count": null,
   "id": "e2d51da3-6a77-4c53-aed2-28d3802ab0a2",
   "metadata": {},
   "outputs": [],
   "source": [
    "import pingouin as pg\n",
    "import pandas as pd\n",
    "import seaborn as sns\n",
    "import numpy as np\n",
    "sns.set()"
   ]
  },
  {
   "cell_type": "markdown",
   "id": "3ea4c3f5-7982-4032-a7cb-7d4b586b9274",
   "metadata": {},
   "source": [
    "# Generate some synthetic data"
   ]
  },
  {
   "cell_type": "code",
   "execution_count": null,
   "id": "255af8ad-4658-4076-8f11-db6c45d115cb",
   "metadata": {},
   "outputs": [],
   "source": [
    "\n",
    "data = {\n",
    "    'participant': np.tile(np.arange(1, 201), 3),\n",
    "    'condition': np.repeat(['Condition1', 'Condition2', 'Condition3'], 200)\n",
    "}\n",
    "\n",
    "# Define non-uniform distribution for scores\n",
    "scores = [1, 2, 3, 4, 5, 6, 7, 8, 9, 10]\n",
    "score_probabilities = [0.05, 0.05, 0.1, 0.1, 0.2, 0.2, 0.1, 0.1, 0.05, 0.05]\n",
    "\n",
    "# Generate non-uniform scores\n",
    "data['score'] = np.random.choice(scores, size=600, p=score_probabilities)\n",
    "\n",
    "# Define non-uniform distribution for incomes\n",
    "incomes = [30000, 40000, 50000, 60000, 70000, 80000, 90000, 100000]\n",
    "income_probabilities = [0.22222222, 0.19444444, 0.16666667, 0.13888889, 0.11111111, 0.08333333, 0.05555556, 0.02777778]\n",
    "\n",
    "# Generate non-uniform incomes\n",
    "data['income'] = np.random.choice(incomes, size=600, p=income_probabilities)\n",
    "\n",
    "# Create a DataFrame\n",
    "df = pd.DataFrame(data)\n",
    "\n",
    "# Add age and favorite_color columns\n",
    "np.random.seed(0)  # For reproducibility\n",
    "df['age'] = np.random.randint(18, 65, 600)\n",
    "df['favourite_colour'] = np.random.choice(['Red', 'Blue', 'Green', 'Yellow', 'Purple', 'Orange', 'Pink'], 600)\n",
    "\n",
    "# Create a gender mapping for participants\n",
    "participant_ids = np.arange(1, 201)\n",
    "genders = np.random.choice(['Male', 'Female'], 200)\n",
    "gender_mapping = dict(zip(participant_ids, genders))\n",
    "\n",
    "# Assign gender based on the mapping\n",
    "df['gender'] = df['participant'].map(gender_mapping)\n",
    "\n",
    "\n",
    "\n"
   ]
  },
  {
   "cell_type": "markdown",
   "id": "ae021cae-1534-439d-b300-11fee38e1001",
   "metadata": {},
   "source": [
    "# 1. The _t_ test\n",
    "\n",
    "Use when assessing whether the means of two groups are significantly different"
   ]
  },
  {
   "cell_type": "markdown",
   "id": "066ae609-df6d-472d-9ae7-290493f16a6d",
   "metadata": {},
   "source": [
    "### The independent samples _t_ test\n",
    "\n",
    "Use this when the two groups have no members in common"
   ]
  },
  {
   "cell_type": "code",
   "execution_count": null,
   "id": "64a0e1a6-d2fd-45d0-8c0d-c6efa2c5e045",
   "metadata": {},
   "outputs": [],
   "source": [
    "ttest_ind = pg.pairwise_tests(dv='score', between='gender', data=df)\n",
    "ttest_ind"
   ]
  },
  {
   "cell_type": "code",
   "execution_count": null,
   "id": "51f95a53-7d8d-4155-9dbd-51e5484e6298",
   "metadata": {},
   "outputs": [],
   "source": [
    "sns.pointplot(x = 'gender', y = 'income', data = df)"
   ]
  },
  {
   "cell_type": "markdown",
   "id": "bd381027-5735-439f-8c62-d1196710ec89",
   "metadata": {},
   "source": [
    "### The related samples _t_ test\n",
    "\n",
    "Use this when both groups have the same members"
   ]
  },
  {
   "cell_type": "code",
   "execution_count": null,
   "id": "782abed0-62cc-471c-aa28-cea294c8732b",
   "metadata": {},
   "outputs": [],
   "source": [
    "df_ = df[(df['condition'] == 'Condition1') | (df['condition'] == 'Condition2')] # removes Condition3 \n",
    "\n",
    "ttest_rel = pg.pairwise_tests(dv='income', within = 'condition', subject = 'participant', data=df_)\n",
    "ttest_rel"
   ]
  },
  {
   "cell_type": "markdown",
   "id": "0a7c4ffc-e7cb-4df3-959b-1597658fbf31",
   "metadata": {},
   "source": [
    "# 2. The ANOVA (analysis of variance): Comparing the means of multiple groups\n",
    "\n",
    "Use this to compare the means of multiple groups"
   ]
  },
  {
   "cell_type": "markdown",
   "id": "a4bf11c3-a0e6-4a9a-a72b-652a3c590fc1",
   "metadata": {},
   "source": [
    "### The one-way ANOVA\n",
    "\n",
    "Use this when comparing the means of multiple groups with no common participants"
   ]
  },
  {
   "cell_type": "code",
   "execution_count": null,
   "id": "ff7dca6e-76b9-4285-8194-3dccbcbb5f09",
   "metadata": {},
   "outputs": [],
   "source": [
    "anova = pg.anova(dv = 'score', between = 'condition', data = df)\n",
    "anova"
   ]
  },
  {
   "cell_type": "code",
   "execution_count": null,
   "id": "6fde1e15-bcf5-435c-8db9-7ed6717f0b13",
   "metadata": {},
   "outputs": [],
   "source": [
    "sns.pointplot(x = 'condition', y = 'score', data = df)"
   ]
  },
  {
   "cell_type": "markdown",
   "id": "0a594ac7-e293-47b8-84a9-d7edd7cb0990",
   "metadata": {},
   "source": [
    "### The repeat-measures ANOVA\n",
    "\n",
    "Use this when comparing the means of multiple groups when participants are present in all groups"
   ]
  },
  {
   "cell_type": "code",
   "execution_count": null,
   "id": "0a8b101d-386c-49ff-a809-ee9761a7977b",
   "metadata": {},
   "outputs": [],
   "source": [
    "aov_rm = pg.rm_anova(dv='income', within='condition', subject= 'participant', data=df)\n",
    "aov_rm"
   ]
  },
  {
   "cell_type": "markdown",
   "id": "e6812754-a299-4b10-9563-1ad7a251000b",
   "metadata": {},
   "source": [
    "# 3. The linear regression\n",
    "\n",
    "Used to evaluate the effect of continuous or categorical variables on a continuous variable"
   ]
  },
  {
   "cell_type": "markdown",
   "id": "8a1a2649-12ad-43e6-bc59-caf83cd7c165",
   "metadata": {},
   "source": [
    "### The simple linear regression\n",
    "\n",
    "Used to evaluate the effect of continuous independent variable on a continuous dependent variable"
   ]
  },
  {
   "cell_type": "code",
   "execution_count": 92,
   "id": "c46b9d3f-e9cb-4933-b92a-6490a7e1b212",
   "metadata": {},
   "outputs": [
    {
     "data": {
      "text/html": [
       "<div>\n",
       "<style scoped>\n",
       "    .dataframe tbody tr th:only-of-type {\n",
       "        vertical-align: middle;\n",
       "    }\n",
       "\n",
       "    .dataframe tbody tr th {\n",
       "        vertical-align: top;\n",
       "    }\n",
       "\n",
       "    .dataframe thead th {\n",
       "        text-align: right;\n",
       "    }\n",
       "</style>\n",
       "<table border=\"1\" class=\"dataframe\">\n",
       "  <thead>\n",
       "    <tr style=\"text-align: right;\">\n",
       "      <th></th>\n",
       "      <th>names</th>\n",
       "      <th>coef</th>\n",
       "      <th>se</th>\n",
       "      <th>T</th>\n",
       "      <th>pval</th>\n",
       "      <th>r2</th>\n",
       "      <th>adj_r2</th>\n",
       "      <th>CI[2.5%]</th>\n",
       "      <th>CI[97.5%]</th>\n",
       "    </tr>\n",
       "  </thead>\n",
       "  <tbody>\n",
       "    <tr>\n",
       "      <th>0</th>\n",
       "      <td>Intercept</td>\n",
       "      <td>55951.395006</td>\n",
       "      <td>2163.963702</td>\n",
       "      <td>25.855977</td>\n",
       "      <td>1.595799e-99</td>\n",
       "      <td>0.001537</td>\n",
       "      <td>-0.000133</td>\n",
       "      <td>51701.502517</td>\n",
       "      <td>60201.287495</td>\n",
       "    </tr>\n",
       "    <tr>\n",
       "      <th>1</th>\n",
       "      <td>score</td>\n",
       "      <td>-342.103747</td>\n",
       "      <td>356.557405</td>\n",
       "      <td>-0.959463</td>\n",
       "      <td>3.377132e-01</td>\n",
       "      <td>0.001537</td>\n",
       "      <td>-0.000133</td>\n",
       "      <td>-1042.360703</td>\n",
       "      <td>358.153210</td>\n",
       "    </tr>\n",
       "  </tbody>\n",
       "</table>\n",
       "</div>"
      ],
      "text/plain": [
       "       names          coef           se          T          pval        r2  \\\n",
       "0  Intercept  55951.395006  2163.963702  25.855977  1.595799e-99  0.001537   \n",
       "1      score   -342.103747   356.557405  -0.959463  3.377132e-01  0.001537   \n",
       "\n",
       "     adj_r2      CI[2.5%]     CI[97.5%]  \n",
       "0 -0.000133  51701.502517  60201.287495  \n",
       "1 -0.000133  -1042.360703    358.153210  "
      ]
     },
     "execution_count": 92,
     "metadata": {},
     "output_type": "execute_result"
    }
   ],
   "source": [
    "reg = pg.linear_regression(df['score'], df['income'])\n",
    "reg"
   ]
  },
  {
   "cell_type": "code",
   "execution_count": null,
   "id": "b2434a29-77bc-4881-a85c-5f6664ef3a71",
   "metadata": {},
   "outputs": [],
   "source": [
    "sns.regplot(x = 'age', y = 'income', scatter = False, data = df)"
   ]
  },
  {
   "cell_type": "markdown",
   "id": "c994707b-85c9-44b2-a5b5-826791537316",
   "metadata": {},
   "source": [
    "### The multiple linear regression\n",
    "\n",
    "Used to Used to evaluate the effect of several independent variables on a continuous dependent variable"
   ]
  },
  {
   "cell_type": "code",
   "execution_count": null,
   "id": "cfb4f917-08b6-45ea-b74b-7cb9c8815d80",
   "metadata": {},
   "outputs": [],
   "source": [
    "mul_reg = pg.linear_regression(df[['age', 'score']], df['income'])\n",
    "mul_reg"
   ]
  },
  {
   "cell_type": "markdown",
   "id": "f004b566-9a3b-4975-b70c-514ae5d059d1",
   "metadata": {},
   "source": [
    "# 4. The $\\chi^2$ test\n",
    "\n",
    "This is used to evaluate whether two categoricial variables are related."
   ]
  },
  {
   "cell_type": "code",
   "execution_count": null,
   "id": "1e93863c-fd6a-42c5-b6ba-3a778ce6d318",
   "metadata": {},
   "outputs": [],
   "source": [
    "stats = pg.chi2_independence(df, x='gender', y='favourite_colour')\n",
    "stats"
   ]
  },
  {
   "cell_type": "code",
   "execution_count": null,
   "id": "95dbfb65-f00e-4afe-8ce4-2254a79f0366",
   "metadata": {},
   "outputs": [],
   "source": [
    "sns.heatmap(pd.crosstab(df['gender'], df['favourite_colour']))"
   ]
  },
  {
   "cell_type": "code",
   "execution_count": null,
   "id": "bf3395ca-5dd0-45d6-a225-cdb0deca214c",
   "metadata": {},
   "outputs": [],
   "source": []
  }
 ],
 "metadata": {
  "kernelspec": {
   "display_name": "Python 3 (ipykernel)",
   "language": "python",
   "name": "python3"
  },
  "language_info": {
   "codemirror_mode": {
    "name": "ipython",
    "version": 3
   },
   "file_extension": ".py",
   "mimetype": "text/x-python",
   "name": "python",
   "nbconvert_exporter": "python",
   "pygments_lexer": "ipython3",
   "version": "3.9.18"
  }
 },
 "nbformat": 4,
 "nbformat_minor": 5
}
